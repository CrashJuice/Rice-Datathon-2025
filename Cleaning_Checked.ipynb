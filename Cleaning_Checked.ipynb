{
  "nbformat": 4,
  "nbformat_minor": 0,
  "metadata": {
    "colab": {
      "provenance": []
    },
    "kernelspec": {
      "name": "python3",
      "display_name": "Python 3"
    },
    "language_info": {
      "name": "python"
    }
  },
  "cells": [
    {
      "cell_type": "code",
      "execution_count": null,
      "metadata": {
        "id": "0B5ce9w73siu"
      },
      "outputs": [],
      "source": [
        "import pandas as pd"
      ]
    },
    {
      "cell_type": "code",
      "source": [
        "# sheets we need to join\n",
        "access = pd.read_csv('ACCESS.csv')\n",
        "assistance = pd.read_csv('ASSISTANCE.csv')\n",
        "health = pd.read_csv('HEALTH.csv')\n",
        "insecurity = pd.read_csv('INSECURITY.csv')\n",
        "local = pd.read_csv('LOCAL.csv')\n",
        "restaurants = pd.read_csv('RESTAURANTS.csv')\n",
        "socioeconomic = pd.read_csv('SOCIOECONOMIC.csv')\n",
        "stores = pd.read_csv('STORES.csv')\n",
        "taxes = pd.read_csv('TAXES.csv')\n",
        "\n",
        "dfs = [assistance, health, insecurity, local, restaurants, socioeconomic, stores, taxes]\n",
        "for df in dfs:\n",
        "    df.drop(['State', 'County'], axis=1, inplace=True)"
      ],
      "metadata": {
        "id": "4YXZCD0p34mY"
      },
      "execution_count": null,
      "outputs": []
    },
    {
      "cell_type": "code",
      "source": [
        "merged_df = access\n",
        "# list of DataFrames to merge with 'access'\n",
        "dfs_to_merge = [assistance, health, insecurity, local, restaurants, socioeconomic, stores, taxes]\n",
        "\n",
        "# Merge by 'FIPS'\n",
        "for df in dfs_to_merge:\n",
        "    merged_df = pd.merge(merged_df, df, on='FIPS', how='outer')  # You can adjust 'how' if needed (e.g., 'inner', 'left')\n",
        "\n",
        "print(merged_df.shape)"
      ],
      "metadata": {
        "id": "RNqyVaVY5OIV",
        "colab": {
          "base_uri": "https://localhost:8080/"
        },
        "outputId": "1d549dfc-d0ce-479c-ecc4-c65e63fd86c6"
      },
      "execution_count": null,
      "outputs": [
        {
          "output_type": "stream",
          "name": "stdout",
          "text": [
            "(3144, 284)\n"
          ]
        }
      ]
    },
    {
      "cell_type": "code",
      "source": [
        "# drop State and County (for merging purposes)\n",
        "df_numeric = merged_df.drop(columns=['State', 'County'], errors='ignore')\n",
        "\n",
        "# correlation matrix\n",
        "corr_matrix = df_numeric.corr()\n",
        "\n",
        "# heatmap\n",
        "plt.figure(figsize=(12, 8))\n",
        "mask = np.eye(len(corr_matrix))  # mask for the diagonal\n",
        "sns.heatmap(corr_matrix, annot=False, cmap='coolwarm', linewidths=0.5, mask=mask)\n",
        "plt.title('Correlation Heatmap')\n",
        "plt.show()"
      ],
      "metadata": {
        "id": "vnkhuK79CMau"
      },
      "execution_count": null,
      "outputs": []
    },
    {
      "cell_type": "code",
      "source": [
        "# most correlated feature pairs\n",
        "corr_unstacked = corr_matrix.unstack()\n",
        "corr_sorted = corr_unstacked.sort_values(ascending=False)\n",
        "corr_filtered = corr_sorted[corr_sorted < 1].drop_duplicates()\n",
        "\n",
        "#top correlated feature pairs\n",
        "print(corr_filtered.head(15))"
      ],
      "metadata": {
        "id": "_GMT4T7hCPAS"
      },
      "execution_count": null,
      "outputs": []
    },
    {
      "cell_type": "code",
      "source": [
        "# Define the columns to keep and their new names\n",
        "columns_to_keep = {\n",
        "    'PCT_LACCESS_LOWI15': 'LowIncome_LowAccess',\n",
        "    'PCT_LACCESS_HHNV15': 'NoCar_LowAccess',\n",
        "    'PCT_SNAP17': 'Snap_Participation',\n",
        "    'PCT_FREE_LUNCH15': 'FreeLunch_Participation',\n",
        "    'PCT_WIC17': 'WIC_Participation',\n",
        "    'FOOD_BANKS18': 'FoodBanks_Count',\n",
        "    'PCT_DIABETES_ADULTS13': 'Adult_Diabetes',\n",
        "    'PCT_OBESE_ADULTS17': 'Adult_Obesity',\n",
        "    'RECFACPTH16': 'Recreation_Facility_Count',\n",
        "    'PCT_NHWHITE10': 'White_Pct',\n",
        "    'PCT_HISP10': 'Hispanic_Pct',\n",
        "    'PCT_NHBLACK10': 'Black_Pct',\n",
        "    'PCT_NHASIAN10': 'Asian_Pct',\n",
        "    'PCT_NHNA10': 'NativeAmerican_Pct',\n",
        "    'PCT_NHPI10': 'PacificIslander_Pct',\n",
        "    'PCT_65OLDER10': '65_Older_Pct',\n",
        "    'PCT_18YOUNGER10': '18_Younger_Pct',\n",
        "    'MEDHHINC15': 'MedianHouseholdIncome',\n",
        "    'POVRATE15': 'PovertyRate',\n",
        "    'POPLOSS10': 'PopulationLoss',\n",
        "    'FOODINSEC_15_17': 'FoodInsecurity',\n",
        "    'GROCPTH16': 'Grocery_Per_Thousand',\n",
        "    'SNAPSPTH17': 'Snap_Authorized_Stores_Count',\n",
        "    'WICSPTH16': 'WIC_Authorized_Stores_Count',\n",
        "    'FOOD_TAX14': 'Food_Sales_Tax',\n",
        "    'FFRPTH16': 'Fast_Food_Restaurants_PTH',\n",
        "    'PC_FFRSALES12': 'Fast_Food_Expenditures_Per_Capita'\n",
        "}\n",
        "\n",
        "# Include 'FIPS', 'state', and 'county' in the list of columns to keep\n",
        "columns_to_keep_with_fips = ['FIPS', 'State', 'County'] + list(columns_to_keep.keys())\n",
        "\n",
        "# Filter and rename the columns in the merged DataFrame\n",
        "merged_df = merged_df[columns_to_keep_with_fips]  # Keep only the required columns\n",
        "merged_df.rename(columns=columns_to_keep, inplace=True)  # Rename columns\n"
      ],
      "metadata": {
        "colab": {
          "base_uri": "https://localhost:8080/"
        },
        "id": "caZaGuSX7HVM",
        "outputId": "b0952d5c-ef59-4a04-e9eb-c304d76d6911"
      },
      "execution_count": null,
      "outputs": [
        {
          "output_type": "stream",
          "name": "stderr",
          "text": [
            "<ipython-input-5-7501cfdfecfd>:37: SettingWithCopyWarning: \n",
            "A value is trying to be set on a copy of a slice from a DataFrame\n",
            "\n",
            "See the caveats in the documentation: https://pandas.pydata.org/pandas-docs/stable/user_guide/indexing.html#returning-a-view-versus-a-copy\n",
            "  merged_df.rename(columns=columns_to_keep, inplace=True)  # Rename columns\n"
          ]
        }
      ]
    }
  ]
}